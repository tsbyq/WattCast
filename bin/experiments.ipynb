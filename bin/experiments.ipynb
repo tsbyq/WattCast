{
 "cells": [
  {
   "cell_type": "code",
   "execution_count": 1,
   "metadata": {},
   "outputs": [
    {
     "name": "stderr",
     "output_type": "stream",
     "text": [
      "d:\\GitHub\\WattCast\\wattcast_env\\lib\\site-packages\\tqdm\\auto.py:21: TqdmWarning: IProgress not found. Please update jupyter and ipywidgets. See https://ipywidgets.readthedocs.io/en/stable/user_install.html\n",
      "  from .autonotebook import tqdm as notebook_tqdm\n"
     ]
    }
   ],
   "source": [
    "import os\n",
    "import plotly.graph_objects as go\n",
    "import pandas as pd\n",
    "import numpy as np\n",
    "import matplotlib.pyplot as plt\n",
    "plt.rcParams.update({'font.size': 12})\n",
    "plt.rcParams[\"font.family\"] = \"Times New Roman\"\n",
    "# from darts.metrics import smape, mape, mase, mse, rmse, r2_score, mae, max_peak_error, mean_n_peak_error\n",
    "from darts.metrics import smape, mape, mase, mse, rmse, r2_score, mae\n",
    "\n",
    "from utils import *\n",
    "from train_eval import *\n",
    "import warnings\n",
    "warnings.filterwarnings('ignore')\n",
    "# Set seed\n",
    "np.random.seed(42)"
   ]
  },
  {
   "cell_type": "code",
   "execution_count": null,
   "metadata": {},
   "outputs": [],
   "source": [
    "# Set working directory\n",
    "import wandb\n",
    "wandb.login()\n",
    "\n",
    "os.chdir(r\"..\") # should be the git repo root directory, checking below:\n",
    "print(\"Current working directory: \" + os.getcwd())\n",
    "assert os.getcwd()[-8:] == \"WattCast\"\n",
    "dir_path = os.path.join(os.getcwd(), 'data', 'clean_data')\n",
    "model_dir = os.path.join(os.getcwd(), 'models')"
   ]
  },
  {
   "cell_type": "code",
   "execution_count": 2,
   "metadata": {},
   "outputs": [],
   "source": [
    "locations_dict, resolutions_dict = get_hdf_keys(dir_path)\n"
   ]
  },
  {
   "cell_type": "code",
   "execution_count": 6,
   "metadata": {},
   "outputs": [
    {
     "name": "stdout",
     "output_type": "stream",
     "text": [
      "==>> locations_dict: {'1_county.h5': ['Los_Angeles', 'New_York', 'Sacramento'], '2_town.h5': ['town_0', 'town_1', 'town_2'], '3_village.h5': ['village_0', 'village_1', 'village_2'], '4_neighborhood.h5': ['neighborhood_0', 'neighborhood_1', 'neighborhood_2'], '5_building.h5': ['building_0', 'building_1', 'building_2']}\n",
      "==>> resolutions_dict: {'1_county.h5': ['60min'], '2_town.h5': ['15min', '60min'], '3_village.h5': ['15min', '60min'], '4_neighborhood.h5': ['60min'], '5_building.h5': ['60min']}\n"
     ]
    }
   ],
   "source": [
    "print(f\"==>> locations_dict: {locations_dict}\")\n",
    "print(f\"==>> resolutions_dict: {resolutions_dict}\")"
   ]
  },
  {
   "attachments": {},
   "cell_type": "markdown",
   "metadata": {},
   "source": [
    "### Loop through all locations and resolutions"
   ]
  },
  {
   "cell_type": "code",
   "execution_count": null,
   "metadata": {},
   "outputs": [],
   "source": [
    "for scale, locations in locations_dict.items():\n",
    "\n",
    "    scale = scale.split('.')[0]\n",
    "    for location in locations:\n",
    "\n",
    "        print(f\"Training {location} at {scale} scale\")\n",
    "\n",
    "        config, models = training(scale, location)\n",
    "\n",
    "        # eval_dict = evaluation(config, models)\n",
    "        # df_metrics = get_run_results(eval_dict, config)\n",
    "\n",
    "        wandb.finish()\n"
   ]
  },
  {
   "attachments": {},
   "cell_type": "markdown",
   "metadata": {},
   "source": [
    "### Run for a single location"
   ]
  },
  {
   "cell_type": "code",
   "execution_count": 8,
   "metadata": {},
   "outputs": [
    {
     "name": "stdout",
     "output_type": "stream",
     "text": [
      "Training village_1 at 3_village scale\n",
      "Could not find a sweep for model rf and scale 3_village in project Wattcast_tuning.\n"
     ]
    },
    {
     "ename": "TypeError",
     "evalue": "'NoneType' object does not support item assignment",
     "output_type": "error",
     "traceback": [
      "\u001b[1;31m---------------------------------------------------------------------------\u001b[0m",
      "\u001b[1;31mTypeError\u001b[0m                                 Traceback (most recent call last)",
      "Cell \u001b[1;32mIn[8], line 6\u001b[0m\n\u001b[0;32m      2\u001b[0m location \u001b[39m=\u001b[39m \u001b[39m'\u001b[39m\u001b[39mvillage_1\u001b[39m\u001b[39m'\u001b[39m\n\u001b[0;32m      4\u001b[0m \u001b[39mprint\u001b[39m(\u001b[39mf\u001b[39m\u001b[39m\"\u001b[39m\u001b[39mTraining \u001b[39m\u001b[39m{\u001b[39;00mlocation\u001b[39m}\u001b[39;00m\u001b[39m at \u001b[39m\u001b[39m{\u001b[39;00mscale\u001b[39m}\u001b[39;00m\u001b[39m scale\u001b[39m\u001b[39m\"\u001b[39m)\n\u001b[1;32m----> 6\u001b[0m config, models \u001b[39m=\u001b[39m training(scale, location)\n\u001b[0;32m      8\u001b[0m \u001b[39m# eval_dict = evaluation(config, models)\u001b[39;00m\n\u001b[0;32m      9\u001b[0m \n\u001b[0;32m     10\u001b[0m \u001b[39m# df_metrics = get_run_results(eval_dict, config)\u001b[39;00m\n\u001b[0;32m     12\u001b[0m wandb\u001b[39m.\u001b[39mfinish()\n",
      "File \u001b[1;32mc:\\Users\\nik\\Desktop\\Berkeley_Projects\\WattCast\\bin\\train_eval.py:600\u001b[0m, in \u001b[0;36mtraining\u001b[1;34m(scale, location)\u001b[0m\n\u001b[0;32m    598\u001b[0m \u001b[39mfor\u001b[39;00m model \u001b[39min\u001b[39;00m tuned_models:\n\u001b[0;32m    599\u001b[0m     config, name \u001b[39m=\u001b[39m get_best_run_config(\u001b[39m'\u001b[39m\u001b[39mWattcast_tuning\u001b[39m\u001b[39m'\u001b[39m, \u001b[39m'\u001b[39m\u001b[39m+eval_loss\u001b[39m\u001b[39m'\u001b[39m, model, scale, location)\n\u001b[1;32m--> 600\u001b[0m     config[\u001b[39m'\u001b[39;49m\u001b[39mhorizon_in_hours\u001b[39;49m\u001b[39m'\u001b[39;49m] \u001b[39m=\u001b[39m \u001b[39m48\u001b[39m\n\u001b[0;32m    601\u001b[0m     config[\u001b[39m'\u001b[39m\u001b[39mlocation\u001b[39m\u001b[39m'\u001b[39m] \u001b[39m=\u001b[39m location \n\u001b[0;32m    602\u001b[0m     config_per_model[model] \u001b[39m=\u001b[39m config, name\n",
      "\u001b[1;31mTypeError\u001b[0m: 'NoneType' object does not support item assignment"
     ]
    }
   ],
   "source": [
    "scale = '3_village'\n",
    "location = 'village_1'\n",
    "\n",
    "print(f\"Training {location} at {scale} scale\")\n",
    "\n",
    "config, models = training(scale, location)\n",
    "\n",
    "# eval_dict = evaluation(config, models)\n",
    "\n",
    "# df_metrics = get_run_results(eval_dict, config)\n",
    "\n",
    "wandb.finish()"
   ]
  },
  {
   "cell_type": "code",
   "execution_count": null,
   "metadata": {},
   "outputs": [],
   "source": []
  }
 ],
 "metadata": {
  "kernelspec": {
   "display_name": "gpu2",
   "language": "python",
   "name": "python3"
  },
  "language_info": {
   "codemirror_mode": {
    "name": "ipython",
    "version": 3
   },
   "file_extension": ".py",
   "mimetype": "text/x-python",
   "name": "python",
   "nbconvert_exporter": "python",
   "pygments_lexer": "ipython3",
   "version": "3.10.9"
  },
  "orig_nbformat": 4
 },
 "nbformat": 4,
 "nbformat_minor": 2
}
